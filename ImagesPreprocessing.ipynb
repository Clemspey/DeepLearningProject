{
  "nbformat": 4,
  "nbformat_minor": 0,
  "metadata": {
    "colab": {
      "provenance": []
    },
    "kernelspec": {
      "name": "python3",
      "display_name": "Python 3"
    },
    "language_info": {
      "name": "python"
    }
  },
  "cells": [
    {
      "cell_type": "code",
      "source": [
        "from google.colab import drive\n",
        "drive.mount('/content/drive')\n",
        "path = '/content/drive/MyDrive/ValDoM/DeepLearning/ProjetDL/'"
      ],
      "metadata": {
        "colab": {
          "base_uri": "https://localhost:8080/"
        },
        "id": "FIVTU9A_YgXy",
        "outputId": "76910968-dcc1-4f5a-8b47-51e2d886149c"
      },
      "execution_count": null,
      "outputs": [
        {
          "output_type": "stream",
          "name": "stdout",
          "text": [
            "Mounted at /content/drive\n"
          ]
        }
      ]
    },
    {
      "cell_type": "code",
      "execution_count": null,
      "metadata": {
        "id": "qO_X1ZkuprG9"
      },
      "outputs": [],
      "source": [
        "import os\n",
        "import cv2\n",
        "import numpy as np\n",
        "def process_images(input_folder, output_folder):\n",
        "    if not os.path.exists(output_folder):\n",
        "        os.makedirs(output_folder)\n",
        "\n",
        "    for filename in os.listdir(input_folder):\n",
        "        if filename.lower().endswith(('png', 'jpg', 'jpeg')):\n",
        "            img_path = os.path.join(input_folder, filename)\n",
        "            img = cv2.imread(img_path)\n",
        "            if img is None:\n",
        "                continue\n",
        "\n",
        "            # Dimensions de l'image\n",
        "            h, w, _ = img.shape\n",
        "\n",
        "            # Redimensionnement de l'image\n",
        "            new_w, new_h = int(w * 0.71), int(h * 0.86)\n",
        "            start_x, start_y = int(w - new_w) // 2, int(0.0305 * h)\n",
        "            center_crop = img[start_y:start_y + new_h, start_x:start_x + new_w]\n",
        "\n",
        "            # Découpe en 4 parties égales\n",
        "            h_split, w_split = new_h // 2, new_w // 2\n",
        "            sub_images = [\n",
        "                center_crop[0:h_split, 0:w_split],\n",
        "                center_crop[0:h_split, w_split:new_w],\n",
        "                center_crop[h_split:new_h, 0:w_split],\n",
        "                center_crop[h_split:new_h, w_split:new_w]\n",
        "            ]\n",
        "\n",
        "            # Sauvegarde des sous-images\n",
        "            base_name = os.path.splitext(filename)[0]\n",
        "            for i, sub_img in enumerate(sub_images):\n",
        "                 sub_img_path = os.path.join(output_folder, f\"{base_name}_part{i+1}.png\")\n",
        "                 cv2.imwrite(sub_img_path, sub_img)\n",
        "\n",
        "            print(f\"Processed {filename}\")"
      ]
    },
    {
      "cell_type": "code",
      "source": [
        "# Utilisation du script\n",
        "input_folder = path + \"Raw_Screenshots\"  # Dossier contenant les images originales\n",
        "output_folder = path + \"Cut_Screenshots\"  # Dossier de sortie des images transformées\n",
        "process_images(input_folder, output_folder)"
      ],
      "metadata": {
        "id": "SkwJS9_bY3eE",
        "colab": {
          "base_uri": "https://localhost:8080/"
        },
        "outputId": "921772c1-7f4e-4c55-87dd-efef949722c1"
      },
      "execution_count": null,
      "outputs": [
        {
          "output_type": "stream",
          "name": "stdout",
          "text": [
            "Processed Capture d’écran 2025-02-07 à 21.05.47.png\n",
            "Processed Capture d’écran 2025-02-07 à 21.06.00.png\n",
            "Processed Capture d’écran 2025-02-07 à 21.06.23.png\n",
            "Processed Capture d’écran 2025-02-07 à 21.06.33.png\n",
            "Processed Capture d’écran 2025-02-07 à 21.06.46.png\n",
            "Processed Capture d’écran 2025-02-07 à 21.07.03.png\n",
            "Processed Capture d’écran 2025-02-07 à 21.07.52.png\n",
            "Processed Capture d’écran 2025-02-07 à 21.08.31.png\n",
            "Processed Capture d’écran 2025-02-07 à 21.08.40.png\n",
            "Processed Capture d’écran 2025-02-07 à 21.08.50.png\n",
            "Processed Capture d’écran 2025-02-07 à 21.08.55.png\n",
            "Processed Capture d’écran 2025-02-07 à 21.09.15.png\n",
            "Processed Capture d’écran 2025-02-07 à 21.09.39.png\n",
            "Processed Capture d’écran 2025-02-07 à 21.09.56.png\n",
            "Processed Capture d’écran 2025-02-07 à 21.10.06.png\n",
            "Processed Capture d’écran 2025-02-07 à 21.10.28.png\n",
            "Processed Capture d’écran 2025-02-07 à 21.13.15.png\n",
            "Processed Capture d’écran 2025-02-07 à 21.13.22.png\n",
            "Processed Capture d’écran 2025-02-07 à 21.13.48.png\n",
            "Processed Capture d’écran 2025-02-07 à 21.13.59.png\n",
            "Processed Capture d’écran 2025-02-07 à 21.14.18.png\n",
            "Processed Capture d’écran 2025-02-07 à 21.23.34.png\n",
            "Processed Capture d’écran 2025-02-07 à 21.23.54.png\n",
            "Processed Capture d’écran 2025-02-07 à 21.24.18.png\n",
            "Processed Capture d’écran 2025-02-07 à 21.24.30.png\n",
            "Processed Capture d’écran 2025-02-07 à 21.24.43.png\n",
            "Processed Capture d’écran 2025-02-07 à 21.25.08.png\n",
            "Processed Capture d’écran 2025-02-07 à 21.25.24.png\n",
            "Processed Capture d’écran 2025-02-07 à 21.25.33.png\n",
            "Processed Capture d’écran 2025-02-07 à 21.25.58.png\n",
            "Processed Capture d’écran 2025-02-07 à 21.30.23.png\n",
            "Processed Capture d’écran 2025-02-07 à 21.30.36.png\n",
            "Processed Capture d’écran 2025-02-07 à 21.30.48.png\n",
            "Processed Capture d’écran 2025-02-07 à 21.30.50.png\n",
            "Processed Capture d’écran 2025-02-07 à 21.31.05.png\n",
            "Processed Capture d’écran 2025-02-07 à 21.32.37.png\n",
            "Processed Capture d’écran 2025-02-07 à 21.33.01.png\n",
            "Processed Capture d’écran 2025-02-07 à 21.33.15.png\n",
            "Processed Capture d’écran 2025-02-07 à 21.33.30.png\n",
            "Processed Capture d’écran 2025-02-07 à 21.33.35.png\n",
            "Processed Capture d’écran 2025-02-07 à 21.34.11.png\n"
          ]
        }
      ]
    },
    {
      "cell_type": "code",
      "source": [
        "import os\n",
        "\n",
        "def rename_images(folder_path, start_number=1):\n",
        "    if not os.path.exists(folder_path):\n",
        "        print(\"Le dossier spécifié n'existe pas.\")\n",
        "        return\n",
        "\n",
        "    images = [f for f in os.listdir(folder_path) if f.lower().endswith(('png', 'jpg', 'jpeg'))]\n",
        "\n",
        "    for index, filename in enumerate(sorted(images), start=start_number):\n",
        "        ext = os.path.splitext(filename)[1]  # Récupérer l'extension\n",
        "        new_name = f\"Image{index}{ext}\"\n",
        "        old_path = os.path.join(folder_path, filename)\n",
        "        new_path = os.path.join(folder_path, new_name)\n",
        "\n",
        "        os.rename(old_path, new_path)\n",
        "        print(f\"{filename} renommé en {new_name}\")"
      ],
      "metadata": {
        "id": "ADSpmX2KYCGB"
      },
      "execution_count": null,
      "outputs": []
    },
    {
      "cell_type": "code",
      "source": [
        "# Utilisation du script\n",
        "folder_path = path + \"Cut_Screenshots\"   # Remplacer par le chemin de votre dossier d'images\n",
        "start_number = 318  # Remplacer par le numéro de départ souhaité\n",
        "rename_images(folder_path, start_number)"
      ],
      "metadata": {
        "colab": {
          "base_uri": "https://localhost:8080/"
        },
        "id": "NGIZaYYBYZQV",
        "outputId": "905a5b1b-a373-4b2d-a263-21f016ccda9f"
      },
      "execution_count": null,
      "outputs": [
        {
          "output_type": "stream",
          "name": "stdout",
          "text": [
            "Capture d’écran 2025-02-07 à 21.05.47_part1.png renommé en Image318.png\n",
            "Capture d’écran 2025-02-07 à 21.05.47_part2.png renommé en Image319.png\n",
            "Capture d’écran 2025-02-07 à 21.05.47_part3.png renommé en Image320.png\n",
            "Capture d’écran 2025-02-07 à 21.05.47_part4.png renommé en Image321.png\n",
            "Capture d’écran 2025-02-07 à 21.06.00_part1.png renommé en Image322.png\n",
            "Capture d’écran 2025-02-07 à 21.06.00_part3.png renommé en Image323.png\n",
            "Capture d’écran 2025-02-07 à 21.06.00_part4.png renommé en Image324.png\n",
            "Capture d’écran 2025-02-07 à 21.06.23_part2.png renommé en Image325.png\n",
            "Capture d’écran 2025-02-07 à 21.06.23_part4.png renommé en Image326.png\n",
            "Capture d’écran 2025-02-07 à 21.06.33_part3.png renommé en Image327.png\n",
            "Capture d’écran 2025-02-07 à 21.06.33_part4.png renommé en Image328.png\n",
            "Capture d’écran 2025-02-07 à 21.06.46_part1.png renommé en Image329.png\n",
            "Capture d’écran 2025-02-07 à 21.06.46_part4.png renommé en Image330.png\n",
            "Capture d’écran 2025-02-07 à 21.07.03_part1.png renommé en Image331.png\n",
            "Capture d’écran 2025-02-07 à 21.07.03_part3.png renommé en Image332.png\n",
            "Capture d’écran 2025-02-07 à 21.07.03_part4.png renommé en Image333.png\n",
            "Capture d’écran 2025-02-07 à 21.07.52_part2.png renommé en Image334.png\n",
            "Capture d’écran 2025-02-07 à 21.07.52_part3.png renommé en Image335.png\n",
            "Capture d’écran 2025-02-07 à 21.07.52_part4.png renommé en Image336.png\n",
            "Capture d’écran 2025-02-07 à 21.08.31_part2.png renommé en Image337.png\n",
            "Capture d’écran 2025-02-07 à 21.08.31_part3.png renommé en Image338.png\n",
            "Capture d’écran 2025-02-07 à 21.08.40_part2.png renommé en Image339.png\n",
            "Capture d’écran 2025-02-07 à 21.08.40_part3.png renommé en Image340.png\n",
            "Capture d’écran 2025-02-07 à 21.08.40_part4.png renommé en Image341.png\n",
            "Capture d’écran 2025-02-07 à 21.08.50_part3.png renommé en Image342.png\n",
            "Capture d’écran 2025-02-07 à 21.08.55_part3.png renommé en Image343.png\n",
            "Capture d’écran 2025-02-07 à 21.09.15_part1.png renommé en Image344.png\n",
            "Capture d’écran 2025-02-07 à 21.09.15_part2.png renommé en Image345.png\n",
            "Capture d’écran 2025-02-07 à 21.09.15_part3.png renommé en Image346.png\n",
            "Capture d’écran 2025-02-07 à 21.09.15_part4.png renommé en Image347.png\n",
            "Capture d’écran 2025-02-07 à 21.09.39_part3.png renommé en Image348.png\n",
            "Capture d’écran 2025-02-07 à 21.09.39_part4.png renommé en Image349.png\n",
            "Capture d’écran 2025-02-07 à 21.09.56_part1.png renommé en Image350.png\n",
            "Capture d’écran 2025-02-07 à 21.09.56_part3.png renommé en Image351.png\n",
            "Capture d’écran 2025-02-07 à 21.10.06_part3.png renommé en Image352.png\n",
            "Capture d’écran 2025-02-07 à 21.10.28_part3.png renommé en Image353.png\n",
            "Capture d’écran 2025-02-07 à 21.10.28_part4.png renommé en Image354.png\n",
            "Capture d’écran 2025-02-07 à 21.13.15_part3.png renommé en Image355.png\n",
            "Capture d’écran 2025-02-07 à 21.13.15_part4.png renommé en Image356.png\n",
            "Capture d’écran 2025-02-07 à 21.13.22_part2.png renommé en Image357.png\n",
            "Capture d’écran 2025-02-07 à 21.13.22_part3.png renommé en Image358.png\n",
            "Capture d’écran 2025-02-07 à 21.13.48_part4.png renommé en Image359.png\n",
            "Capture d’écran 2025-02-07 à 21.13.59_part4.png renommé en Image360.png\n",
            "Capture d’écran 2025-02-07 à 21.14.18_part3.png renommé en Image361.png\n",
            "Capture d’écran 2025-02-07 à 21.14.18_part4.png renommé en Image362.png\n",
            "Capture d’écran 2025-02-07 à 21.23.34_part3.png renommé en Image363.png\n",
            "Capture d’écran 2025-02-07 à 21.23.34_part4.png renommé en Image364.png\n",
            "Capture d’écran 2025-02-07 à 21.23.54_part3.png renommé en Image365.png\n",
            "Capture d’écran 2025-02-07 à 21.23.54_part4.png renommé en Image366.png\n",
            "Capture d’écran 2025-02-07 à 21.24.18_part2.png renommé en Image367.png\n",
            "Capture d’écran 2025-02-07 à 21.24.18_part3.png renommé en Image368.png\n",
            "Capture d’écran 2025-02-07 à 21.24.30_part1.png renommé en Image369.png\n",
            "Capture d’écran 2025-02-07 à 21.24.30_part4.png renommé en Image370.png\n",
            "Capture d’écran 2025-02-07 à 21.24.43_part3.png renommé en Image371.png\n",
            "Capture d’écran 2025-02-07 à 21.25.08_part1.png renommé en Image372.png\n",
            "Capture d’écran 2025-02-07 à 21.25.08_part2.png renommé en Image373.png\n",
            "Capture d’écran 2025-02-07 à 21.25.08_part3.png renommé en Image374.png\n",
            "Capture d’écran 2025-02-07 à 21.25.08_part4.png renommé en Image375.png\n",
            "Capture d’écran 2025-02-07 à 21.25.24_part3.png renommé en Image376.png\n",
            "Capture d’écran 2025-02-07 à 21.25.24_part4.png renommé en Image377.png\n",
            "Capture d’écran 2025-02-07 à 21.25.33_part3.png renommé en Image378.png\n",
            "Capture d’écran 2025-02-07 à 21.25.33_part4.png renommé en Image379.png\n",
            "Capture d’écran 2025-02-07 à 21.25.58_part2.png renommé en Image380.png\n",
            "Capture d’écran 2025-02-07 à 21.25.58_part3.png renommé en Image381.png\n",
            "Capture d’écran 2025-02-07 à 21.30.23_part3.png renommé en Image382.png\n",
            "Capture d’écran 2025-02-07 à 21.30.23_part4.png renommé en Image383.png\n",
            "Capture d’écran 2025-02-07 à 21.30.36_part2.png renommé en Image384.png\n",
            "Capture d’écran 2025-02-07 à 21.30.36_part3.png renommé en Image385.png\n",
            "Capture d’écran 2025-02-07 à 21.30.48_part1.png renommé en Image386.png\n",
            "Capture d’écran 2025-02-07 à 21.30.48_part2.png renommé en Image387.png\n",
            "Capture d’écran 2025-02-07 à 21.30.48_part3.png renommé en Image388.png\n",
            "Capture d’écran 2025-02-07 à 21.30.48_part4.png renommé en Image389.png\n",
            "Capture d’écran 2025-02-07 à 21.30.50_part1.png renommé en Image390.png\n",
            "Capture d’écran 2025-02-07 à 21.30.50_part2.png renommé en Image391.png\n",
            "Capture d’écran 2025-02-07 à 21.30.50_part3.png renommé en Image392.png\n",
            "Capture d’écran 2025-02-07 à 21.30.50_part4.png renommé en Image393.png\n",
            "Capture d’écran 2025-02-07 à 21.31.05_part1.png renommé en Image394.png\n",
            "Capture d’écran 2025-02-07 à 21.31.05_part2.png renommé en Image395.png\n",
            "Capture d’écran 2025-02-07 à 21.31.05_part3.png renommé en Image396.png\n",
            "Capture d’écran 2025-02-07 à 21.31.05_part4.png renommé en Image397.png\n",
            "Capture d’écran 2025-02-07 à 21.32.37_part3.png renommé en Image398.png\n",
            "Capture d’écran 2025-02-07 à 21.33.15_part1.png renommé en Image399.png\n",
            "Capture d’écran 2025-02-07 à 21.33.15_part2.png renommé en Image400.png\n",
            "Capture d’écran 2025-02-07 à 21.33.15_part3.png renommé en Image401.png\n",
            "Capture d’écran 2025-02-07 à 21.33.30_part2.png renommé en Image402.png\n",
            "Capture d’écran 2025-02-07 à 21.33.30_part3.png renommé en Image403.png\n",
            "Capture d’écran 2025-02-07 à 21.33.30_part4.png renommé en Image404.png\n",
            "Capture d’écran 2025-02-07 à 21.33.35_part1.png renommé en Image405.png\n",
            "Capture d’écran 2025-02-07 à 21.33.35_part2.png renommé en Image406.png\n",
            "Capture d’écran 2025-02-07 à 21.33.35_part3.png renommé en Image407.png\n",
            "Capture d’écran 2025-02-07 à 21.33.35_part4.png renommé en Image408.png\n",
            "Capture d’écran 2025-02-07 à 21.34.11_part1.png renommé en Image409.png\n",
            "Capture d’écran 2025-02-07 à 21.34.11_part2.png renommé en Image410.png\n",
            "Capture d’écran 2025-02-07 à 21.34.11_part3.png renommé en Image411.png\n",
            "Capture d’écran 2025-02-07 à 21.34.11_part4.png renommé en Image412.png\n"
          ]
        }
      ]
    }
  ]
}